{
 "cells": [
  {
   "cell_type": "code",
   "execution_count": 2,
   "metadata": {},
   "outputs": [
    {
     "name": "stdout",
     "output_type": "stream",
     "text": [
      "Bibliotecas cargadas\n"
     ]
    }
   ],
   "source": [
    "import math\n",
    "from math import factorial\n",
    "print(\"Bibliotecas cargadas\")"
   ]
  },
  {
   "cell_type": "markdown",
   "metadata": {},
   "source": [
    "# Ejercicios"
   ]
  },
  {
   "cell_type": "markdown",
   "metadata": {},
   "source": [
    "## Ejercicio 9"
   ]
  },
  {
   "cell_type": "markdown",
   "metadata": {},
   "source": [
    "### Sólo para practicar. Los números telefónicos en la ciudad de Cuernavaca, Morelos, constan de siete dígitos."
   ]
  },
  {
   "cell_type": "markdown",
   "metadata": {},
   "source": [
    "#### a) ¿Cuántas líneas telefónicas pueden crearse en esa ciudad? Recuerda que no pueden comenzar con cero."
   ]
  },
  {
   "cell_type": "markdown",
   "metadata": {},
   "source": [
    "Calculamos el numero total de las combinaciones que es 9 por las combinaciones posibles y dado el numero de digitos disponibles se eleva que es 7 \n",
    "\n",
    "\\begin{align}\n",
    "    \\text{Combinaciones} &= n \\times 10^{r-1} \\\\\n",
    "    \\text{donde } n &= 9 \\quad (\\text{primer dígito}) \\\\\n",
    "    r &= 7 \\quad (\\text{total de dígitos}) \\\\\n",
    "    \\text{Combinaciones} &= 9 \\times 10^{6} \\\\\n",
    "    &= 9 \\times 1000000 \\\\\n",
    "    &= 9000000\n",
    "\\end{align}\n",
    "Por lo tanto el numero de lineas telefonicas que se pueden crear es de 9000000"
   ]
  },
  {
   "cell_type": "code",
   "execution_count": 1,
   "metadata": {},
   "outputs": [
    {
     "name": "stdout",
     "output_type": "stream",
     "text": [
      "9000000\n"
     ]
    }
   ],
   "source": [
    "Opcion_inicial = 9\n",
    "\n",
    "Digitos_opciones = 10\n",
    "\n",
    "TotalLineasTel = Opcion_inicial * (Digitos_opciones ** 6)\n",
    "\n",
    "print(TotalLineasTel)"
   ]
  },
  {
   "cell_type": "markdown",
   "metadata": {},
   "source": [
    "### b) Si los tres primeros dígitos representan una zona de Cuernavaca, ¿cuántas líneas telefónicas pertenecen a la zona 326?"
   ]
  },
  {
   "cell_type": "markdown",
   "metadata": {},
   "source": [
    "El 10 representa los valores psibles por cada digito entonces este valor se eleva a la potencia de 7 que es el numero de digitos disponibles\n",
    "\n",
    "\\begin{align}\n",
    "    \\text{Combinaciones} &= n \\times 10^{r-1} \\\\\n",
    "    \\text{donde } n &= 10 \\quad (\\text{dígitos del 0 al 9}) \\\\\n",
    "    r &= 7 \\quad (\\text{total de dígitos después del prefijo}) \\\\\n",
    "    \\text{Combinaciones} &= 10 \\times 10^{7-1} \\\\\n",
    "    &= 10 \\times 10^{6} \\\\\n",
    "    &= 10000000\n",
    "\\end{align}\n",
    "Por lo tanto las lineas telefonicas que pertenecen a la zona 326 son 10000000\n"
   ]
  },
  {
   "cell_type": "code",
   "execution_count": 2,
   "metadata": {},
   "outputs": [
    {
     "name": "stdout",
     "output_type": "stream",
     "text": [
      "10000000\n"
     ]
    }
   ],
   "source": [
    "Ultimos_cuatro_digitos = 10 ** 7\n",
    "\n",
    "liNZona_326 = Ultimos_cuatro_digitos\n",
    "\n",
    "print(liNZona_326)"
   ]
  },
  {
   "cell_type": "markdown",
   "metadata": {},
   "source": [
    "# Ejercicio 10"
   ]
  },
  {
   "cell_type": "markdown",
   "metadata": {},
   "source": [
    "10. Sólo para practicar. Se tiene la palabra MURCIÉLAGO. Si no se permiten repeticiones al usar \n",
    "las letras que la forman, determina:\n",
    "\n",
    "a) El número de palabras que puedes crear."
   ]
  },
  {
   "cell_type": "markdown",
   "metadata": {},
   "source": [
    "Para encontrar cuántas palabras diferentes se pueden formar con las 10 letras de **\"MURCIELAGO\"** sin repetir ninguna, usamos la fórmula **n!** (n factorial), que es la multiplicacion de todos los números enteros desde n hasta 1.\n",
    "\n",
    "$$\n",
    "\\begin{align}\n",
    "    P(n) &= n!\\\\\n",
    "    P(10) &= 10!\\\\\n",
    "    P(10) &= 10 \\cdot 9 \\cdot 8 \\cdot 7 \\cdot 6 \\cdot 5 \\cdot 4 \\cdot 3 \\cdot 2 \\cdot 1\\\\\n",
    "    P(10) &= 3,628,800\n",
    "\\end{align}\n",
    "$$\n",
    "\n",
    "Por lo tanto se puedes formar **3,628,800** palabrabras solo utilizando las 10 letras de la palabra **MURCIELAGO** sin repeticiones."
   ]
  },
  {
   "cell_type": "code",
   "execution_count": 3,
   "metadata": {},
   "outputs": [
    {
     "name": "stdout",
     "output_type": "stream",
     "text": [
      "Hay 3628800 palabras usando: M, U, R, C, I, E, L, A, G y O\n"
     ]
    }
   ],
   "source": [
    "# Implementacion de la solucion del inciso a) del ejercicio 10\n",
    "print(f'Hay {math.factorial(10)} palabras usando: M, U, R, C, I, E, L, A, G y O') "
   ]
  },
  {
   "cell_type": "markdown",
   "metadata": {},
   "source": [
    "b) El número de palabras con cinco letras."
   ]
  },
  {
   "cell_type": "markdown",
   "metadata": {},
   "source": [
    "Para encontrar cuántas palabras de 5 letras se pueden formar con las letras de **\"MURCIELAGO\"** sin repetir ninguna, utilizamos la fórmula de permutaciones, que es:\n",
    "\n",
    "$$\n",
    "\\begin{align}\n",
    "    _nP_r &= \\dfrac{n!}{(n - r)!}\\\\\n",
    "    _10P_5 &= \\dfrac{10!}{(10 - 5)!}\\\\\n",
    "    _10P_3 &= \\dfrac{10!}{5!} = \\dfrac{3,628,800}{120}\\\\\n",
    "    _10P_3 &= 30,240\n",
    "\\end{align}\n",
    "$$\n",
    "\n",
    "Por lo tanto se puedes formar **30,240** palabrabras de 5 letras utilizando las 10 letras de la palabra **MURCIELAGO** sin repeticiones."
   ]
  },
  {
   "cell_type": "code",
   "execution_count": 4,
   "metadata": {},
   "outputs": [
    {
     "name": "stdout",
     "output_type": "stream",
     "text": [
      "Hay 30240 palabras de 5 letras usando: M, U, R, C, I, E, L, A, G y O\n"
     ]
    }
   ],
   "source": [
    "# Implementacion de la solucion del inciso b) del ejercicio 10\n",
    "n, r = 10, 5\n",
    "numbers_of_3_digits = math.perm(n, r)\n",
    "print(f'Hay {numbers_of_3_digits} palabras de 5 letras usando: M, U, R, C, I, E, L, A, G y O')"
   ]
  },
  {
   "cell_type": "markdown",
   "metadata": {},
   "source": [
    "c) La probabilidad de que una palabra de cinco letras termine en vocal"
   ]
  },
  {
   "cell_type": "markdown",
   "metadata": {},
   "source": [
    "Para encontrar la probabilidad de que una palabra de 5 letras termine en vocal, consideramos que la palabra **MURCIELAGO** tiene 5 vocales (A, E, I, O, U). Por lo tanto, seguimos el patrón 9, 8, 7, 6, **5** donde el último dígito representa el número de vocales disponibles. Luego elegimos las otras 4 letras de las 9 restantes (ya que hemos usado una letra para la última posición). Esto se calcula utilizando las permutaciones de las 4 letras restantes:\n",
    "\n",
    "$$\n",
    "\\begin{align}\n",
    "    9 \\cdot 8 \\cdot 7 \\cdot 6 \\cdot 5 = 15,120\n",
    "\\end{align}\n",
    "$$\n",
    "\n",
    "Para calcular la probabilidad, dividimos el número de palabras que terminan en vocal entre el total de palabras de 5 letras:\n",
    "\n",
    "$$\n",
    "\\begin{align}\n",
    "    Probabilidad &= \\dfrac{15,120}{30,240}\\\\\n",
    "     Probabilidad &= 0.5 \n",
    "\\end{align}\n",
    "$$\n",
    "\n",
    "Por lo tanto, la probabilidad de que una palabra de 5 letras termine en vocal es 0.5.\n"
   ]
  },
  {
   "cell_type": "code",
   "execution_count": 5,
   "metadata": {},
   "outputs": [
    {
     "name": "stdout",
     "output_type": "stream",
     "text": [
      "La probabilidad de que la ultima letra sea vocal es de 0.5 %\n"
     ]
    }
   ],
   "source": [
    "# Implementacion de la solucion del inciso c) del ejercicio 10\n",
    "p = 9 * 8 * 7 * 6 * 5\n",
    "probabilidad = p / 30240\n",
    "print(f'La probabilidad de que la ultima letra sea vocal es de {probabilidad} %')"
   ]
  },
  {
   "cell_type": "markdown",
   "metadata": {},
   "source": [
    "# Ejercicio 11"
   ]
  },
  {
   "cell_type": "markdown",
   "metadata": {},
   "source": [
    "Parque vehicular. La Ciudad de México tiene placas de automóviles con tres números seguidos \n",
    "por tres letras, es decir, son placas del tipo 999-AAA. Sin embargo, no pueden empezar con 0 \n",
    "(cero) ni se utilizan las letras I, O, Q y Ñ.\n",
    "\n",
    "a) ¿Cuántas placas diferentes son posibles?"
   ]
  },
  {
   "cell_type": "markdown",
   "metadata": {},
   "source": [
    "Para encontrar cuántas placas de automóvil es posible hacer, seguimos los siguientes patrones:\n",
    "\n",
    "- Patron 1  Multiplicamos 9 × 10 × 10 ya que no se permite iniciar con el número 0:\n",
    "\n",
    "$$\n",
    "\\begin{align}\n",
    "    9 \\cdot 10 \\cdot 10 = 900\n",
    "\\end{align}\n",
    "$$\n",
    "\n",
    "- Patron 2 Multiplicamos 23 × 23 × 23 ya que el abecedario contiene 27 letras y no se permiten utilizar las letras I, O, Q y Ñ:\n",
    "\n",
    "$$\n",
    "\\begin{align}\n",
    "    23 \\cdot 23 \\cdot 23 = 12,167\n",
    "\\end{align}\n",
    "$$\n",
    "\n",
    "Finalmente, multiplicamos los resultados de ambos patrones para obtener el total de placas de automóvil posibles:\n",
    "\n",
    "$$\n",
    "\\begin{align}\n",
    "    900 \\cdot 12,167 = 12,167\n",
    "\\end{align}\n",
    "$$\n",
    "\n",
    "Por lo tanto, se pueden hacer **10,950,300** placas de automóvil.\n"
   ]
  },
  {
   "cell_type": "code",
   "execution_count": 6,
   "metadata": {},
   "outputs": [
    {
     "name": "stdout",
     "output_type": "stream",
     "text": [
      "TOtal de placas: 10950300\n"
     ]
    }
   ],
   "source": [
    "# Implementacion de la solucion del inciso a) del ejercicio 11\n",
    "n = 9 * 10 * 10\n",
    "p = 23 * 23 * 23\n",
    "print('TOtal de placas:', n * p)"
   ]
  },
  {
   "cell_type": "markdown",
   "metadata": {},
   "source": [
    "b) ¿Cuántas placas diferentes terminan en vocal?"
   ]
  },
  {
   "cell_type": "markdown",
   "metadata": {},
   "source": [
    "Para encontrar cuántas placas de automóvil terminan en vocal, seguimos los siguientes patrones:\n",
    "\n",
    "- **Patron 1:** Multiplicamos 9 × 10 × 10 ya que no se permite iniciar con el número 0:\n",
    "\n",
    "$$\n",
    "\\begin{align}\n",
    "    9 \\cdot 10 \\cdot 10 = 900\n",
    "\\end{align}\n",
    "$$\n",
    "\n",
    "- **Patron 2:** Multiplicamos 23 × 23 × 3 ya que el abecedario contiene 27 letras y no se permiten utilizar las letras I, O, Q y Ñ. Además, la placa debe terminar en vocal, por lo que solo hay 3 opciones al final sin utilizar I y O:\n",
    "\n",
    "$$\n",
    "\\begin{align}\n",
    "    23 \\cdot 23 \\cdot 3 = 1587\n",
    "\\end{align}\n",
    "$$\n",
    "\n",
    "Finalmente, multiplicamos los resultados de ambos patrones para obtener el total de placas de automóvil posibles:\n",
    "\n",
    "$$\n",
    "\\begin{align}\n",
    "    900 \\cdot 1587 = 1428300\n",
    "\\end{align}\n",
    "$$\n",
    "\n",
    "Por lo tanto, se pueden hacer **1428300** placas de automóvil que terminan en vocal."
   ]
  },
  {
   "cell_type": "code",
   "execution_count": 7,
   "metadata": {},
   "outputs": [
    {
     "name": "stdout",
     "output_type": "stream",
     "text": [
      "TOtal de placas: 1428300\n"
     ]
    }
   ],
   "source": [
    "# Implementacion de la solucion del inciso b) del ejercicio 11\n",
    "n = 9 * 10 * 10\n",
    "p = 23 * 23 * 3\n",
    "print('TOtal de placas:', n * p)"
   ]
  },
  {
   "cell_type": "markdown",
   "metadata": {},
   "source": [
    "c) ¿Cuál es la probabilidad de que una placa, elegida al azar, sea impar"
   ]
  },
  {
   "cell_type": "markdown",
   "metadata": {},
   "source": [
    "Para encontrar la probabilidad de que una placa elegida al azar sea impar, seguimos los siguientes patrones:\n",
    "\n",
    "- **Patron 1:** Multiplicamos 9 × 10 × 5 ya que no se permite iniciar con el número 0 y la placa debe terminar en 1, 3, 5, 7 o 9 para que sea impar:\n",
    "\n",
    "$$\n",
    "\\begin{align}\n",
    "    9 \\cdot 10 \\cdot 5 = 450\n",
    "\\end{align}\n",
    "$$\n",
    "\n",
    "- **Patron 2:**  Multiplicamos 23 × 23 × 23 ya que el abecedario contiene 27 letras y no se permiten utilizar las letras I, O, Q y Ñ:\n",
    "\n",
    "$$\n",
    "\\begin{align}\n",
    "    23 \\cdot 23 \\cdot 23 = 12,167\n",
    "\\end{align}\n",
    "$$\n",
    "\n",
    "Ahora, multiplicamos los resultados de ambos patrones para obtener el total de placas de automóvil posibles que terminan en número impar:\n",
    "\n",
    "$$\n",
    "\\begin{align}\n",
    "    450 \\cdot 12,167 = 5, 475,150\n",
    "\\end{align}\n",
    "$$\n",
    "\n",
    "Finalmente, para calcular la probabilidad, dividimos el número de placas que terminan en número impar entre el total de placas:\n",
    "\n",
    "$$\n",
    "\\begin{align}\n",
    "    Probabilidad &= \\dfrac{5, 475,150}{10,950,300}\\\\\n",
    "     Probabilidad &= 0.5 \n",
    "\\end{align}\n",
    "$$\n",
    "\n",
    "Por lo tanto, la probabilidad de que una placa sea impar es 0.5."
   ]
  },
  {
   "cell_type": "code",
   "execution_count": 8,
   "metadata": {},
   "outputs": [
    {
     "name": "stdout",
     "output_type": "stream",
     "text": [
      "La probabilidad de que una placa sea impar es de 0.5 %\n"
     ]
    }
   ],
   "source": [
    "# Implementacion de la solucion del inciso c) del ejercicio 11\n",
    "n = 9 * 10 * 5\n",
    "p = 23 * 23 * 23\n",
    "Probabilidad = n / 10950300  \n",
    "print(f'La probabilidad de que una placa sea impar es de {probabilidad} %') "
   ]
  },
  {
   "cell_type": "markdown",
   "metadata": {},
   "source": [
    "# 14. Finanzas. \n",
    "Se va a formar un portafolio de inversión de cuatro instrumentos financieros a partir\n",
    "de cinco de renta fija y seis de renta variable. ¿De cuántas maneras podría formarse el portafolio\n",
    "si:"
   ]
  },
  {
   "cell_type": "markdown",
   "metadata": {},
   "source": [
    "# a) No hay restricciones?\n",
    "\n",
    "Dado a que no hay ninguna regla especial, solo queremos seleccionar 4 instrumentos de un total de 11 (5 de renta fija y 6 de renta variable). \n",
    "\n",
    "Para ello usaremos la formula de las combinaciones:\n",
    "$$\n",
    "\\begin{align}\n",
    "    _nC_r &= \\dfrac{n!}{r!(n-r)!}\n",
    "\\end{align}\n",
    "$$\n",
    "Datos:\n",
    "$$\n",
    "\\begin{align}\n",
    "    n = 11\n",
    "\\end{align}\n",
    "$$\n",
    "$$\n",
    "\\begin{align}\n",
    "    r = 4\n",
    "\\end{align}\n",
    "$$\n",
    "Sustituimos la formula con nuestros valores:\n",
    "$$\n",
    "\\begin{align}\n",
    "    _{11}C_4 &= \\dfrac{11!}{4!(11 - 4)!}\n",
    "\\end{align}\n",
    "$$\n",
    "Restamos (11 - 4) lo que nos daria: 7\n",
    "$$\n",
    "\\begin{align}\n",
    "    _{11}C_4 &= \\dfrac{11!}{4!(7)!}\n",
    "\\end{align}\n",
    "$$\n",
    "Tenemos a 11! que seria lo mismo que: 11 * 10 * 9 * 8 * 7 \n",
    "\n",
    "y hasta ese numero lo dejariamos, entonces el 7! se cancela \n",
    "\n",
    "con el 7 de arriba:\n",
    "$$\n",
    "\\begin{align}\n",
    "    _{11}C_4 &= \\dfrac{11*10*9*8*7}{4! * 7!}\n",
    "\\end{align}\n",
    "$$\n",
    "Despues se hace la multiplicación 11 * 10 * 9 * 8:\n",
    "$$\n",
    "\\begin{align}\n",
    "    _{11}C_4 &= \\dfrac{11*10*9*8}{4!}\n",
    "\\end{align}\n",
    "$$\n",
    "Hacemos la divición:\n",
    "$$\n",
    "\\begin{align}\n",
    "    _{11}C_4 &= \\dfrac{7920}{4!}\n",
    "\\end{align}\n",
    "$$\n",
    "Por ultimo obtendriamos nuestro resultado:\n",
    "$$\n",
    "\\begin{align}\n",
    "    _{11}C_4 &= 330\n",
    "\\end{align}\n",
    "$$"
   ]
  },
  {
   "cell_type": "markdown",
   "metadata": {},
   "source": [
    "# b) Debe haber dos instrumentos de renta fija y dos de renta variable?\n",
    "\n",
    "Se requieren 2 de los 5 instrumentos de renta fija y 2 de los 6 de renta variable. para lograr eso debemos usar \n",
    "la formula de la combinaciones para cada grupo y multiplicar:\n",
    "\n",
    "$$\n",
    "\\begin{align}\n",
    "    _nC_r &= \\dfrac{n!}{r!(n-r)!}\n",
    "\\end{align}\n",
    "$$\n",
    "Datos: \n",
    "$$\n",
    "\\begin{align}\n",
    "    n = 5\n",
    "\\end{align}\n",
    "$$\n",
    "$$\n",
    "\\begin{align}\n",
    "    r = 2\n",
    "\\end{align}\n",
    "$$\n",
    "Sustituimos la formula con nuestros valores:\n",
    "$$\n",
    "\\begin{align}\n",
    "    _{5}C_2 &= \\dfrac{5!}{2!(5 - 2)!}\n",
    "\\end{align}\n",
    "$$\n",
    "Restamos (5 - 2) lo que nos daria: 3!\n",
    "$$\n",
    "\\begin{align}\n",
    "    _{5}C_2 &= \\dfrac{5!}{2!(3)!}\n",
    "\\end{align}\n",
    "$$\n",
    "Tenemos a 5! que seria lo mismo que: 5 * 4 * 3\n",
    "\n",
    "y hasta ese numero lo dejariamos, entonces el 3! se cancela \n",
    "\n",
    "con el 3 de arriba:\n",
    "$$\n",
    "\\begin{align}\n",
    "    _{5}C_2 &= \\dfrac{5 * 4 * 3}{2! * 3!}\n",
    "\\end{align}\n",
    "$$\n",
    "$$\n",
    "\\begin{align}\n",
    "    _{5}C_2 &= \\dfrac{5 * 4 }{2!}\n",
    "\\end{align}\n",
    "$$\n",
    "Hacemos la divición:\n",
    "$$\n",
    "\\begin{align}\n",
    "    _{5}C_2 &= \\dfrac{20}{2!}\n",
    "\\end{align}\n",
    "$$\n",
    "Obtenemos nuestro resultado de la primer parte:\n",
    "$$\n",
    "\\begin{align}\n",
    "    _{5}C_2 &= 10\n",
    "\\end{align}\n",
    "$$\n",
    "_____\n",
    "Datos:\n",
    "$$\n",
    "\\begin{align}\n",
    "    n = 6\n",
    "\\end{align}\n",
    "$$\n",
    "$$\n",
    "\\begin{align}\n",
    "    r = 2\n",
    "\\end{align}\n",
    "$$\n",
    "Sustituimos la formula con nuestros valores:\n",
    "$$\n",
    "\\begin{align}\n",
    "    _{6}C_2 &= \\dfrac{6!}{2!(6 - 2)!}\n",
    "\\end{align}\n",
    "$$\n",
    "Restamos (5 - 2) lo que nos daria: 3!\n",
    "$$\n",
    "\\begin{align}\n",
    "    _{6}C_2 &= \\dfrac{6!}{2!(4)!}\n",
    "\\end{align}\n",
    "$$\n",
    "Tenemos a 6! que seria lo mismo que: 6 * 5 * 4 * 3 * 2\n",
    "\n",
    "y hasta ese numero lo dejariamos, entonces el 2! se cancela \n",
    "$$\n",
    "\\begin{align}\n",
    "    _{6}C_2 &= \\dfrac{6 * 5 * 4}{2! * 4!}\n",
    "\\end{align}\n",
    "$$\n",
    "$$\n",
    "\\begin{align}\n",
    "    _{6}C_2 &= \\dfrac{6 * 5}{2!}\n",
    "\\end{align}\n",
    "$$\n",
    "Hacemos la divición:\n",
    "$$\n",
    "\\begin{align}\n",
    "    _{6}C_2 &= \\dfrac{30}{2!}\n",
    "\\end{align}\n",
    "$$\n",
    "Por ultimo obtenemos el resultado de la segunda parte:\n",
    "$$\n",
    "\\begin{align}\n",
    "    _{6}C_2 &= 15\n",
    "\\end{align}\n",
    "$$\n",
    "Para finalizar con este iniciso multiplicaremos los productos que obtuvimos anteriormente:\n",
    "$$\n",
    "\\begin{align*}\n",
    "10 \\times 15 &= 150\n",
    "\\end{align*}\n",
    "$$"
   ]
  },
  {
   "cell_type": "markdown",
   "metadata": {},
   "source": [
    "# c) No debe haber ningún instrumento de renta fija?\n",
    "\n",
    "Para realizarlo se tiene que Seleccionar 4 de los 6 instrumentos de renta variable.\n",
    "Para lograrlo usamos la formula de la combinaciones:\n",
    "\n",
    "$$\n",
    "\\begin{align}\n",
    "    _nC_r &= \\dfrac{n!}{r!(n-r)!}\n",
    "\\end{align}\n",
    "$$\n",
    "Datos:\n",
    "$$\n",
    "\\begin{align}\n",
    "    n = 6\n",
    "\\end{align}\n",
    "$$\n",
    "$$\n",
    "\\begin{align}\n",
    "    r = 4\n",
    "\\end{align}\n",
    "$$\n",
    "Sustituimos la formula con nuestros valores:\n",
    "$$\n",
    "\\begin{align}\n",
    "    _{6}C_4 &= \\dfrac{6}{4!(6-4)!}\n",
    "\\end{align}\n",
    "$$\n",
    "Restamos (6 - 4) lo que nos daria: 2!\n",
    "$$\n",
    "\\begin{align}\n",
    "    _{6}C_4 &= \\dfrac{6}{4!(2)!}\n",
    "\\end{align}\n",
    "$$\n",
    "Tenemos a 6! que seria lo mismo que: 6 * 5 * 4 \n",
    "\n",
    "y hasta ese numero lo dejariamos, entonces el 4! se cancela \n",
    "$$\n",
    "\\begin{align}\n",
    "    _{6}C_4 &= \\dfrac{6 * 5 * 4 * 3 * 2}{4! * 2!}\n",
    "\\end{align}\n",
    "$$\n",
    "$$\n",
    "\\begin{align}\n",
    "    _{6}C_4 &= \\dfrac{6 * 5 * 4 * 3}{4!}\n",
    "\\end{align}\n",
    "$$\n",
    "Hacemos la divición:\n",
    "$$\n",
    "\\begin{align}\n",
    "    _{6}C_4 &= \\dfrac{360}{4!}\n",
    "\\end{align}\n",
    "$$\n",
    "Obtenemos como resultado:\n",
    "$$\n",
    "\\begin{align}\n",
    "    _{6}C_4 &= 15\n",
    "\\end{align}\n",
    "$$"
   ]
  },
  {
   "cell_type": "markdown",
   "metadata": {},
   "source": [
    "# d) Debe haber tres instrumentos de renta fija?\n",
    "\n",
    "Tenemos que Seleccionar 3 de los 5 instrumentos de renta fija y 1 de los 6 de renta variable.\n",
    "\n",
    "Para lograrlo usamos la formula de la combinaciones:\n",
    "$$\n",
    "\\begin{align}\n",
    "    _nC_r &= \\dfrac{n!}{r!(n-r)!}\n",
    "\\end{align}\n",
    "$$\n",
    "Datos:\n",
    "$$\n",
    "\\begin{align}\n",
    "    n = 5\n",
    "\\end{align}\n",
    "$$\n",
    "$$\n",
    "\\begin{align}\n",
    "    r = 3\n",
    "\\end{align}\n",
    "$$\n",
    "Sustituimos la formula con nuestros valores:\n",
    "$$\n",
    "\\begin{align}\n",
    "    _{5}C_3 &= \\dfrac{5!}{3!(5 - 3)!}\n",
    "\\end{align}\n",
    "$$\n",
    "Restamos (5 - 3) lo que nos daria: 2!\n",
    "$$\n",
    "\\begin{align}\n",
    "    _{5}C_3 &= \\dfrac{5!}{3!(2)!}\n",
    "\\end{align}\n",
    "$$\n",
    "Tenemos a 5! que seria lo mismo que: 5 * 4 * 3 * 2 \n",
    "\n",
    "y hasta ese numero lo dejariamos, entonces el 2! se cancela \n",
    "$$\n",
    "\\begin{align}\n",
    "    _{5}C_3 &= \\dfrac{5 * 4 * 3 * 2}{3!(2)!}\n",
    "\\end{align}\n",
    "$$\n",
    "Hacemos la divición:\n",
    "$$\n",
    "\\begin{align}\n",
    "    _{5}C_3 &= \\dfrac{60}{3!}\n",
    "\\end{align}\n",
    "$$\n",
    "Obtenemos primer resultado:\n",
    "$$\n",
    "\\begin{align}\n",
    "    _{6}C_3 &= 10\n",
    "\\end{align}\n",
    "$$\n",
    "____\n",
    "Datos:\n",
    "$$\n",
    "\\begin{align}\n",
    "    n = 6\n",
    "\\end{align}\n",
    "$$\n",
    "$$\n",
    "\\begin{align}\n",
    "    r = 1\n",
    "\\end{align}\n",
    "$$\n",
    "Sustituimos la formula con nuestros valores:\n",
    "$$\n",
    "\\begin{align}\n",
    "    _{6}C_1 &= \\dfrac{6!}{1!(6 - 1)!}\n",
    "\\end{align}\n",
    "$$\n",
    "Restamos (6 - 1) lo que nos daria: 5!\n",
    "$$\n",
    "\\begin{align}\n",
    "    _{6}C_1 &= \\dfrac{6!}{1!(5)!}\n",
    "\\end{align}\n",
    "$$\n",
    "Tenemos a 6! que seria lo mismo que: 6 * 5  \n",
    "\n",
    "y hasta ese numero lo dejariamos, entonces el 5! se cancela \n",
    "$$\n",
    "\\begin{align}\n",
    "    _{6}C_1 &= \\dfrac{6 * 5}{1! * 5!}\n",
    "\\end{align}\n",
    "$$\n",
    "Hacemos la divición:\n",
    "$$\n",
    "\\begin{align}\n",
    "    _{6}C_1 &= \\dfrac{6}{1!}\n",
    "\\end{align}\n",
    "$$\n",
    "Obtenemos el segundo resultado:\n",
    "$$\n",
    "\\begin{align}\n",
    "    _{6}C_1 &= 6\n",
    "\\end{align}\n",
    "$$\n",
    "Para finalizar con este iniciso multiplicaremos los productos que obtuvimos anteriormente:\n",
    "$$\n",
    "\\begin{align*}\n",
    "10 \\times 6 &= 60\n",
    "\\end{align*}\n",
    "$$"
   ]
  },
  {
   "cell_type": "markdown",
   "metadata": {},
   "source": [
    "# e) Calcula las probabilidades para los incisos anteriores.\n",
    "\n",
    "Para cada probabilidad (b, c, d), la probabilidad se divide con el número de formas específicas para formar el portafolio por el número total de formas sin restricciones.\n",
    "\n",
    "- a)\n",
    "$$\n",
    "\\begin{align}\n",
    "    \\dfrac{330}{330} = 1 \\approx 100\\%\n",
    "\\end{align}\n",
    "$$\n",
    "\n",
    "- b)\n",
    "$$\n",
    "\\begin{align}\n",
    "    \\dfrac{150}{330} = 0.454545 \\approx 45.45\\%\n",
    "\\end{align}\n",
    "$$\n",
    "\n",
    "- c)\n",
    "$$\n",
    "\\begin{align}\n",
    "    \\dfrac{15}{330} = 0.045455 \\approx 4.55\\%\n",
    "\\end{align}\n",
    "$$\n",
    "\n",
    "- d)\n",
    "$$\n",
    "\\begin{align}\n",
    "    \\dfrac{60}{330} = 0.181818 \\approx 18.18\\%\n",
    "\\end{align}\n",
    "$$\n"
   ]
  },
  {
   "cell_type": "code",
   "execution_count": 2,
   "metadata": {},
   "outputs": [
    {
     "name": "stdout",
     "output_type": "stream",
     "text": [
      "a) Total de formas posibles: 330\n",
      "La Probabilidad es: 1.000000\n",
      "b) Total de formas posibles: 150\n",
      "La Probabilidad es: 0.454545\n",
      "c) Total de formas posibles: 15\n",
      "   La Probabilidad es: 0.045455\n",
      "d) Total de formas posibles: 60\n",
      "La Probabilidad es: 0.181818\n",
      "\n",
      "Probabilidades:\n",
      "a) 100.00%\n",
      "b) 45.45%\n",
      "c) 4.55%\n",
      "d) 18.18%\n"
     ]
    }
   ],
   "source": [
    "# Implementación de la solución\n",
    "# Calculando combinaciones sin restricciones\n",
    "fija = 5\n",
    "variable = 6\n",
    "total_combinaciones = math.comb(fija + variable, 4)\n",
    "\n",
    "# a) No hay restricciones\n",
    "total_a = total_combinaciones\n",
    "prob_a = total_a / total_combinaciones\n",
    "\n",
    "print(f\"a) Total de formas posibles: {total_a}\")\n",
    "print(f\"La Probabilidad es: {prob_a:.6f}\")\n",
    "\n",
    "# b) Debe haber dos instrumentos de renta fija y dos de renta variable\n",
    "b = math.comb(fija, 2) * math.comb(variable, 2)\n",
    "prob_b = b / total_combinaciones\n",
    "\n",
    "print(f\"b) Total de formas posibles: {b}\")\n",
    "print(f\"La Probabilidad es: {prob_b:.6f}\")\n",
    "\n",
    "# c) No debe haber ningún instrumento de renta fija\n",
    "c = math.comb(variable, 4)\n",
    "prob_c = c / total_combinaciones\n",
    "\n",
    "print(f\"c) Total de formas posibles: {c}\")\n",
    "print(f\"   La Probabilidad es: {prob_c:.6f}\")\n",
    "\n",
    "# d) Debe haber tres instrumentos de renta fija\n",
    "d = math.comb(fija, 3) * math.comb(variable, 1)\n",
    "prob_d = d / total_combinaciones\n",
    "\n",
    "print(f\"d) Total de formas posibles: {d}\")\n",
    "print(f\"La Probabilidad es: {prob_d:.6f}\")\n",
    "\n",
    "# e) Calculando probabilidades para todos los incisos\n",
    "probabilidades = {\n",
    "    'a': prob_a,\n",
    "    'b': prob_b,\n",
    "    'c': prob_c,\n",
    "    'd': prob_d\n",
    "}\n",
    "\n",
    "print(\"\\nProbabilidades:\")\n",
    "for letra, probabilidad in probabilidades.items():\n",
    "    probabilidad_porcentaje = probabilidad * 100\n",
    "    print(f\"{letra}) {probabilidad_porcentaje:.2f}%\")\n"
   ]
  },
  {
   "cell_type": "markdown",
   "metadata": {},
   "source": [
    "# 15. Futbol. \n",
    "Tres parejas (tres hombres y tres mujeres) compran boletos para ir a un partido de los\n",
    "Pumas. Cuando llegan al estadio de Ciudad Universitaria les surge la duda de cómo sentarse en\n",
    "la fila. ¿De cuántas maneras pueden hacerlo si:"
   ]
  },
  {
   "cell_type": "markdown",
   "metadata": {},
   "source": [
    "# a) No hay restricciones? \n",
    "\n",
    "Dado a que esas 6 personas se pueden sentar en cualquier orden entonces las maneras posibles de sentarse son el número de permutaciones de 6 personas, lo que seria:\n",
    "\n",
    "\n",
    "$$\n",
    "\\begin{align}\n",
    "    6! = 6 \\times 5 \\times 4 \\times 3 \\times 2 \\times 1 = 720\n",
    "\\end{align}\n",
    "$$"
   ]
  },
  {
   "cell_type": "markdown",
   "metadata": {},
   "source": [
    "# b) Los hombres deben sentarse juntos\n",
    "\n",
    "Dado que los hombres deben sentarse juntos, vamos a considerar a los 3 hombres como un solo bloque. Esto nos deja con 4 bloques (el bloque de hombres y las 3 mujeres).\n",
    "\n",
    "Entonces, consideramos \\(4!\\) como el número de maneras de organizar los bloques, que da como resultado 24:\n",
    "\n",
    "$$\n",
    "4! = 4 \\times 3 \\times 2 \\times 1 = 24\n",
    "$$\n",
    "\n",
    "Dentro del bloque de hombres, ellos se pueden organizar de 6 maneras diferentes:\n",
    "\n",
    "$$\n",
    "3! = 3 \\times 2 \\times 1 = 6\n",
    "$$\n",
    "\n",
    "Hacemos la multiplicación de las 2 cantidades, donde 24 es la forma de organizar los bloques y 6 es la forma de organizarse entre ellos:\n",
    "\n",
    "$$\n",
    "24 \\times 6 = 144\n",
    "$$\n",
    "\n",
    "Entonces, hay 144 maneras diferentes de sentar a las 6 personas si los hombres deben sentarse juntos.\n"
   ]
  },
  {
   "cell_type": "markdown",
   "metadata": {},
   "source": [
    "# c) Deben sentarse por parejas?\n",
    "\n",
    "Dado a que tenemos de 3 parejas (hombre y mujer), esto se considera como un bloque:\n",
    "$$\n",
    "3! = 3 \\times 2 \\times 1 = 6\n",
    "$$\n",
    "\n",
    "Se considera tambien que dentro de cada pareja, el hombre y la mujer pueden cambiar de lugar. \n",
    "\n",
    "Por lo que cada pareja puede organizarse de 2 maneras diferentes:\n",
    "$$\n",
    "2! = 2 \\times 1 = 2\n",
    "$$\n",
    "\n",
    "Para relaizar el calculo se multiplican las maneras de organizar los bloques (las parejas),\n",
    "\n",
    "por las maneras de organizar cada pareja:\n",
    "\n",
    "$$\n",
    "6 \\times 2 \\times 2\\times 2 = 48\n",
    "$$\n",
    "\n",
    "Dando como resltado 48 maneras diferentes de sentar a las 6 personas por parejas."
   ]
  },
  {
   "cell_type": "markdown",
   "metadata": {},
   "source": [
    "# d) ¿Cuál es la probabilidad de cada uno de los eventos descritos en los incisos anteriores?\n",
    "\n",
    "Para cada probabilidad (a, b, c), se divide el número de maneras en que puede suceder el evento entre el número total de maneras posibles (720):\n",
    "\n",
    "- a)\n",
    "$$\n",
    "\\begin{align}\n",
    "    \\dfrac{720}{720} = 1 \\approx 100\\%\n",
    "\\end{align}\n",
    "$$\n",
    "- b)\n",
    "$$\n",
    "\\begin{align}\n",
    "    \\dfrac{144}{720} = \\dfrac{1}{5} = 0.20 \\approx 20\\%\n",
    "\\end{align}\n",
    "$$\n",
    "\n",
    "- c)\n",
    "$$\n",
    "\\begin{align}\n",
    "    \\dfrac{48}{720} = \\dfrac{1}{15} = 0.0667 \\approx 6.67\\%\n",
    "\\end{align}\n",
    "$$\n"
   ]
  },
  {
   "cell_type": "code",
   "execution_count": 3,
   "metadata": {},
   "outputs": [
    {
     "name": "stdout",
     "output_type": "stream",
     "text": [
      "a) Total de arreglos posibles: 720\n",
      "   Probabilidad de ordenar así: 100.00%\n",
      "\n",
      "b) Total de arreglos posibles: 144\n",
      "   Probabilidad de ordenar así: 20.00%\n",
      "\n",
      "c) Total de arreglos posibles: 48\n",
      "   Probabilidad de ordenar así: 6.67%\n",
      "\n",
      "D) Probabilidades:\n",
      "a) 100.00%\n",
      "b) 20.00%\n",
      "c) 6.67%\n"
     ]
    }
   ],
   "source": [
    "import math\n",
    "\n",
    "# Total de personas (3 hombres y 3 mujeres)\n",
    "total_personas = 6\n",
    "\n",
    "# a) No hay restricciones\n",
    "total_permu_a = math.factorial(total_personas)\n",
    "probabilidad_a = 1.0  # Probabilidad es 100%\n",
    "\n",
    "print(f\"a) Total de arreglos posibles: {total_permu_a}\")\n",
    "print(f\"   Probabilidad de ordenar así: {probabilidad_a:.2%}\\n\")\n",
    "\n",
    "# b) Los hombres deben sentarse juntos\n",
    "total_permu_b = math.factorial(4) * math.factorial(3)\n",
    "probabilidad_b = 0.20  # Probabilidad es 20%\n",
    "\n",
    "print(f\"b) Total de arreglos posibles: {total_permu_b}\")\n",
    "print(f\"   Probabilidad de ordenar así: {probabilidad_b:.2%}\\n\")\n",
    "\n",
    "# c) Deben sentarse por parejas\n",
    "total_permu_c = math.factorial(3) * (2 ** 3)\n",
    "probabilidad_c = 0.0667  # Probabilidad es 6.67%\n",
    "\n",
    "print(f\"c) Total de arreglos posibles: {total_permu_c}\")\n",
    "print(f\"   Probabilidad de ordenar así: {probabilidad_c:.2%}\\n\")\n",
    "\n",
    "# d) Probabilidades en porcentaje (ya están definidas arriba)\n",
    "print(\"D) Probabilidades:\")\n",
    "print(f\"a) {probabilidad_a:.2%}\")\n",
    "print(f\"b) {probabilidad_b:.2%}\")\n",
    "print(f\"c) {probabilidad_c:.2%}\")\n"
   ]
  },
  {
   "cell_type": "markdown",
   "metadata": {},
   "source": [
    "## Ejercicio 16: Trabajo en equipo.\n",
    "\n",
    "En un grupo de 25 alumnos hay 13 chicas y 12 chicos. Se desean formar equipos de trabajo para realizar una investigación:"
   ]
  },
  {
   "cell_type": "markdown",
   "metadata": {},
   "source": [
    "a) ¿Cuántos equipos de cinco personas pueden formarse?\n",
    "\n",
    "Tenemos un total de 25 alumnos y si queremos realizar equipos de cinco personas cada uno usariamos la formula de las combinaciones, la cual es: \n",
    "$$\n",
    "\\begin{align}\n",
    "    \\binom{n}{r} = \\frac{n!}{r!(n-r)!}\n",
    "\\end{align}\n",
    "$$\n",
    "\n",
    "Donde n = 25 y r = 5\n",
    "\n",
    "$$\n",
    "\\begin{align}\n",
    "    \\binom{25}{5} &= \\frac{25!}{5!(25-5)!}  &= 53130 \\\\ \n",
    "\\end{align}\n",
    "$$"
   ]
  },
  {
   "cell_type": "code",
   "execution_count": null,
   "metadata": {},
   "outputs": [
    {
     "name": "stdout",
     "output_type": "stream",
     "text": [
      "La cantidad de equipos que se pueden formar con 5 alumnos son: 53130\n"
     ]
    }
   ],
   "source": [
    "\n",
    "equiposA = math.comb(25,5)\n",
    "\n",
    "print(f'La cantidad de equipos que se pueden formar con 5 alumnos son: {equiposA}')"
   ]
  },
  {
   "cell_type": "markdown",
   "metadata": {},
   "source": [
    "b) ¿Cuántos equipos pueden formarse si debe haber una chica?\n",
    "\n",
    "Primero debemos saber que si solo hay una chica en el equipo significa que los otros 4 integrantes seran chicos, sabiendo eso usamos la formula de las combinaciones para saber cuantas posibilidades hay de obtener a una chica en el equipo, y aparte saber cuantas hay de obtener a 4 chicos, para despues multiplicarlas entre si:\n",
    "$$\n",
    "\\begin{align}\n",
    "\\binom{13}{1} = \\frac{13!}{1!(13-1)!} = 13\n",
    "\\end{align}\n",
    "$$\n",
    "Son 13 posibilidades de que haya 1 chica en el equipo\n",
    "$$\n",
    "\\begin{align}\n",
    "\\binom{12}{4} = \\frac{12!}{4!(12-4)!} = 495\n",
    "\\end{align}\n",
    "$$\n",
    "Son 495 posibilidades de que haya 4 chicos en el equipo\n",
    "\n",
    "$$\n",
    "\\begin{align}\n",
    "    13 * 495 = 6435\n",
    "\\end{align}\n",
    "$$\n",
    "\n",
    "Ahora multiplicamos los resultados entre si para saber la cantidad de equipos posibles (los cuales son 6435)\n",
    "\n"
   ]
  },
  {
   "cell_type": "code",
   "execution_count": null,
   "metadata": {},
   "outputs": [
    {
     "name": "stdout",
     "output_type": "stream",
     "text": [
      "La cantidad de equipos que se pueden formar con 1 chica y 4 chicos son: 6435\n"
     ]
    }
   ],
   "source": [
    "equiposB = math.comb(13,1) * math.comb(12,4)\n",
    "print(f'La cantidad de equipos que se pueden formar con 1 chica y 4 chicos son: {equiposB}')"
   ]
  },
  {
   "cell_type": "markdown",
   "metadata": {},
   "source": [
    "c) ¿Cuántos equipos pueden formarse si debe haber dos chicas?\n",
    "\n",
    "Siguiendo el mismo procedimiento del ejercicio anterior\n",
    "\n",
    "Primero debemos saber que si solo hay dos chicas en el equipo significa que los otros 3 integrantes seran chicos, sabiendo eso usamos la formula de las combinaciones para saber cuantas posibilidades hay de obtener a dos chicas en el equipo, y aparte saber cuantas hay de obtener a 3 chicos, para despues multiplicarlas entre si:\n",
    "$$\n",
    "\\begin{align}\n",
    "\\binom{13}{2} = \\frac{13!}{2!(13-2)!} = 78\n",
    "\\end{align}\n",
    "$$\n",
    "Son 78 posibilidades de que haya 2 chicas en el equipo\n",
    "$$\n",
    "\\begin{align}\n",
    "\\binom{12}{3} = \\frac{12!}{3!(12-3)!} = 220\n",
    "\\end{align}\n",
    "$$\n",
    "Son 220 posibilidades de que haya 3 chicos en el equipo\n",
    "\n",
    "$$\n",
    "\\begin{align}\n",
    "    78 * 220 = 17160\n",
    "\\end{align}\n",
    "$$\n",
    "Ahora multiplicamos los resultados entre si para saber la cantidad de equipos posibles (los cuales son 17160)"
   ]
  },
  {
   "cell_type": "code",
   "execution_count": null,
   "metadata": {},
   "outputs": [
    {
     "name": "stdout",
     "output_type": "stream",
     "text": [
      "La cantidad de equipos que se pueden formar con 2 chicas y 3 chicos son: 17160\n"
     ]
    }
   ],
   "source": [
    "equiposC = math.comb(13,2) * math.comb(12,3)\n",
    "print(f'La cantidad de equipos que se pueden formar con 2 chicas y 3 chicos son: {equiposC}')"
   ]
  },
  {
   "cell_type": "markdown",
   "metadata": {},
   "source": [
    "d) Determina las probabilidades correspondientes a los incisos anteriores.\n",
    "\n",
    "Para obtener las probabilidades correspondientes debemos saber que la probabilidad de obtiene dividiendo la cantidad de casos favorables entre la cantidad de casos totales:\n",
    "\n",
    "$$\n",
    "\\begin{align}\n",
    "    Probabilidad = \\frac{Casos Favorables}{Casos Totales}\n",
    "\\end{align}\n",
    "$$\n",
    "\n",
    "Ya con eso podemos obtener las probabilidades correspondientes\n",
    "\n",
    "Para el inciso b:\n",
    "\n",
    "$$\n",
    "\\begin{align}\n",
    "    Probabilidad = \\frac{6435}{53130}\n",
    "\\end{align}\n",
    "$$\n",
    "\n",
    "Y para el inciso c:\n",
    "\n",
    "$$\n",
    "\\begin{align}\n",
    "    Probabilidad = \\frac{17160}{53130}\n",
    "\\end{align}\n",
    "$$"
   ]
  },
  {
   "cell_type": "code",
   "execution_count": null,
   "metadata": {},
   "outputs": [
    {
     "name": "stdout",
     "output_type": "stream",
     "text": [
      "La probabilidad de que salga un equipo con una chica y cuatro chicos es de: 12.11 %\n",
      "La probabilidad de que salga un equipo con dos chicas y tres chicos es de: 32.3 %\n"
     ]
    }
   ],
   "source": [
    "ProbabilidadB = equiposB/equiposA\n",
    "print(f'La probabilidad de que salga un equipo con una chica y cuatro chicos es de: {round(ProbabilidadB*100,2)} %')\n",
    "ProbabilidadC = equiposC/equiposA\n",
    "print(f'La probabilidad de que salga un equipo con dos chicas y tres chicos es de: {round(ProbabilidadC*100,2)} %')\n"
   ]
  }
 ],
 "metadata": {
  "kernelspec": {
   "display_name": "Python 3",
   "language": "python",
   "name": "python3"
  },
  "language_info": {
   "codemirror_mode": {
    "name": "ipython",
    "version": 3
   },
   "file_extension": ".py",
   "mimetype": "text/x-python",
   "name": "python",
   "nbconvert_exporter": "python",
   "pygments_lexer": "ipython3",
   "version": "3.11.9"
  }
 },
 "nbformat": 4,
 "nbformat_minor": 2
}
